{
 "cells": [
  {
   "cell_type": "code",
   "execution_count": 11,
   "metadata": {
    "_cell_guid": "b1076dfc-b9ad-4769-8c92-a6c4dae69d19",
    "_uuid": "8f2839f25d086af736a60e9eeb907d3b93b6e0e5",
    "execution": {
     "iopub.execute_input": "2025-09-15T18:22:13.419649Z",
     "iopub.status.busy": "2025-09-15T18:22:13.419393Z",
     "iopub.status.idle": "2025-09-15T18:22:15.089771Z",
     "shell.execute_reply": "2025-09-15T18:22:15.088876Z",
     "shell.execute_reply.started": "2025-09-15T18:22:13.419621Z"
    },
    "trusted": true
   },
   "outputs": [],
   "source": [
    "\n",
    "import numpy as np\n",
    "import pandas as pd "
   ]
  },
  {
   "cell_type": "code",
   "execution_count": 12,
   "metadata": {
    "execution": {
     "iopub.execute_input": "2025-09-15T18:22:15.653196Z",
     "iopub.status.busy": "2025-09-15T18:22:15.652946Z",
     "iopub.status.idle": "2025-09-15T18:22:16.120602Z",
     "shell.execute_reply": "2025-09-15T18:22:16.119840Z",
     "shell.execute_reply.started": "2025-09-15T18:22:15.653165Z"
    },
    "trusted": true
   },
   "outputs": [
    {
     "data": {
      "text/html": [
       "<div>\n",
       "<style scoped>\n",
       "    .dataframe tbody tr th:only-of-type {\n",
       "        vertical-align: middle;\n",
       "    }\n",
       "\n",
       "    .dataframe tbody tr th {\n",
       "        vertical-align: top;\n",
       "    }\n",
       "\n",
       "    .dataframe thead th {\n",
       "        text-align: right;\n",
       "    }\n",
       "</style>\n",
       "<table border=\"1\" class=\"dataframe\">\n",
       "  <thead>\n",
       "    <tr style=\"text-align: right;\">\n",
       "      <th></th>\n",
       "      <th>State_Name</th>\n",
       "      <th>District_Name</th>\n",
       "      <th>Crop_Year</th>\n",
       "      <th>Season</th>\n",
       "      <th>Crop</th>\n",
       "      <th>Area</th>\n",
       "      <th>Production</th>\n",
       "    </tr>\n",
       "  </thead>\n",
       "  <tbody>\n",
       "    <tr>\n",
       "      <th>0</th>\n",
       "      <td>Andaman and Nicobar Islands</td>\n",
       "      <td>NICOBARS</td>\n",
       "      <td>2000</td>\n",
       "      <td>Kharif</td>\n",
       "      <td>Arecanut</td>\n",
       "      <td>1254.0</td>\n",
       "      <td>2000.0</td>\n",
       "    </tr>\n",
       "    <tr>\n",
       "      <th>1</th>\n",
       "      <td>Andaman and Nicobar Islands</td>\n",
       "      <td>NICOBARS</td>\n",
       "      <td>2000</td>\n",
       "      <td>Kharif</td>\n",
       "      <td>Other Kharif pulses</td>\n",
       "      <td>2.0</td>\n",
       "      <td>1.0</td>\n",
       "    </tr>\n",
       "    <tr>\n",
       "      <th>2</th>\n",
       "      <td>Andaman and Nicobar Islands</td>\n",
       "      <td>NICOBARS</td>\n",
       "      <td>2000</td>\n",
       "      <td>Kharif</td>\n",
       "      <td>Rice</td>\n",
       "      <td>102.0</td>\n",
       "      <td>321.0</td>\n",
       "    </tr>\n",
       "    <tr>\n",
       "      <th>3</th>\n",
       "      <td>Andaman and Nicobar Islands</td>\n",
       "      <td>NICOBARS</td>\n",
       "      <td>2000</td>\n",
       "      <td>Whole Year</td>\n",
       "      <td>Banana</td>\n",
       "      <td>176.0</td>\n",
       "      <td>641.0</td>\n",
       "    </tr>\n",
       "    <tr>\n",
       "      <th>4</th>\n",
       "      <td>Andaman and Nicobar Islands</td>\n",
       "      <td>NICOBARS</td>\n",
       "      <td>2000</td>\n",
       "      <td>Whole Year</td>\n",
       "      <td>Cashewnut</td>\n",
       "      <td>720.0</td>\n",
       "      <td>165.0</td>\n",
       "    </tr>\n",
       "  </tbody>\n",
       "</table>\n",
       "</div>"
      ],
      "text/plain": [
       "                    State_Name District_Name  Crop_Year       Season  \\\n",
       "0  Andaman and Nicobar Islands      NICOBARS       2000  Kharif        \n",
       "1  Andaman and Nicobar Islands      NICOBARS       2000  Kharif        \n",
       "2  Andaman and Nicobar Islands      NICOBARS       2000  Kharif        \n",
       "3  Andaman and Nicobar Islands      NICOBARS       2000  Whole Year    \n",
       "4  Andaman and Nicobar Islands      NICOBARS       2000  Whole Year    \n",
       "\n",
       "                  Crop    Area  Production  \n",
       "0             Arecanut  1254.0      2000.0  \n",
       "1  Other Kharif pulses     2.0         1.0  \n",
       "2                 Rice   102.0       321.0  \n",
       "3               Banana   176.0       641.0  \n",
       "4            Cashewnut   720.0       165.0  "
      ]
     },
     "execution_count": 12,
     "metadata": {},
     "output_type": "execute_result"
    }
   ],
   "source": [
    "df1 = pd.read_csv(\"crop_production.csv\")\n",
    "df1.head(5)"
   ]
  },
  {
   "cell_type": "code",
   "execution_count": 13,
   "metadata": {
    "execution": {
     "iopub.execute_input": "2025-09-15T18:22:16.121748Z",
     "iopub.status.busy": "2025-09-15T18:22:16.121488Z",
     "iopub.status.idle": "2025-09-15T18:22:16.198942Z",
     "shell.execute_reply": "2025-09-15T18:22:16.198316Z",
     "shell.execute_reply.started": "2025-09-15T18:22:16.121725Z"
    },
    "trusted": true
   },
   "outputs": [],
   "source": [
    "df1.dropna(inplace=True)"
   ]
  },
  {
   "cell_type": "code",
   "execution_count": 14,
   "metadata": {
    "execution": {
     "iopub.execute_input": "2025-09-15T18:22:16.199892Z",
     "iopub.status.busy": "2025-09-15T18:22:16.199635Z",
     "iopub.status.idle": "2025-09-15T18:22:16.203305Z",
     "shell.execute_reply": "2025-09-15T18:22:16.202648Z",
     "shell.execute_reply.started": "2025-09-15T18:22:16.199862Z"
    },
    "trusted": true
   },
   "outputs": [],
   "source": [
    "# df1.isnull().sum()"
   ]
  },
  {
   "cell_type": "code",
   "execution_count": 15,
   "metadata": {
    "execution": {
     "iopub.execute_input": "2025-09-15T18:22:16.204235Z",
     "iopub.status.busy": "2025-09-15T18:22:16.204031Z",
     "iopub.status.idle": "2025-09-15T18:22:16.234557Z",
     "shell.execute_reply": "2025-09-15T18:22:16.233840Z",
     "shell.execute_reply.started": "2025-09-15T18:22:16.204211Z"
    },
    "trusted": true
   },
   "outputs": [],
   "source": [
    "x = df1[[\"State_Name\",\"District_Name\",\"Crop_Year\",\"Season\",\"Crop\",\"Area\"]]\n",
    "y = df1[\"Production\"]"
   ]
  },
  {
   "cell_type": "code",
   "execution_count": 16,
   "metadata": {
    "execution": {
     "iopub.execute_input": "2025-09-15T18:22:16.237318Z",
     "iopub.status.busy": "2025-09-15T18:22:16.236857Z",
     "iopub.status.idle": "2025-09-15T18:22:17.334786Z",
     "shell.execute_reply": "2025-09-15T18:22:17.334137Z",
     "shell.execute_reply.started": "2025-09-15T18:22:16.237293Z"
    },
    "trusted": true
   },
   "outputs": [],
   "source": [
    "from sklearn.model_selection import train_test_split\n",
    "x_train,x_test,y_train,y_test = train_test_split(x ,y ,random_state= 42, test_size=0.2)\n"
   ]
  },
  {
   "cell_type": "code",
   "execution_count": 17,
   "metadata": {
    "execution": {
     "iopub.execute_input": "2025-09-15T18:22:17.338644Z",
     "iopub.status.busy": "2025-09-15T18:22:17.338336Z",
     "iopub.status.idle": "2025-09-15T18:22:17.820566Z",
     "shell.execute_reply": "2025-09-15T18:22:17.819843Z",
     "shell.execute_reply.started": "2025-09-15T18:22:17.338618Z"
    },
    "trusted": true
   },
   "outputs": [],
   "source": [
    "from sklearn.compose import ColumnTransformer\n",
    "from sklearn.preprocessing import OneHotEncoder\n",
    "from sklearn.pipeline import Pipeline\n",
    "from sklearn.preprocessing import StandardScaler\n",
    "from xgboost import XGBRegressor\n",
    "from sklearn.metrics import r2_score,mean_absolute_error"
   ]
  },
  {
   "cell_type": "code",
   "execution_count": 18,
   "metadata": {
    "execution": {
     "iopub.execute_input": "2025-09-15T18:22:17.821384Z",
     "iopub.status.busy": "2025-09-15T18:22:17.821204Z",
     "iopub.status.idle": "2025-09-15T18:22:17.825467Z",
     "shell.execute_reply": "2025-09-15T18:22:17.824925Z",
     "shell.execute_reply.started": "2025-09-15T18:22:17.821368Z"
    },
    "trusted": true
   },
   "outputs": [],
   "source": [
    "trf = ColumnTransformer([\n",
    "    ('trf',OneHotEncoder(drop = \"first\"),[\"State_Name\",\"District_Name\",\"Season\",\"Crop\"])\n",
    "],remainder= 'passthrough')"
   ]
  },
  {
   "cell_type": "code",
   "execution_count": 19,
   "metadata": {
    "execution": {
     "iopub.execute_input": "2025-09-15T18:22:17.826760Z",
     "iopub.status.busy": "2025-09-15T18:22:17.826517Z",
     "iopub.status.idle": "2025-09-15T18:22:17.841387Z",
     "shell.execute_reply": "2025-09-15T18:22:17.840767Z",
     "shell.execute_reply.started": "2025-09-15T18:22:17.826738Z"
    },
    "trusted": true
   },
   "outputs": [],
   "source": [
    "pipe = Pipeline(steps=[\n",
    "    ('step1',trf),\n",
    "    ('step2',StandardScaler(with_mean=False)),\n",
    "    ('step3',XGBRegressor(n_estimators = 1000,learning_rate=0.2,max_depth=12,random_state=1))\n",
    "])"
   ]
  },
  {
   "cell_type": "code",
   "execution_count": 20,
   "metadata": {
    "execution": {
     "iopub.execute_input": "2025-09-15T18:24:19.002998Z",
     "iopub.status.busy": "2025-09-15T18:24:19.002711Z",
     "iopub.status.idle": "2025-09-15T18:25:58.212794Z",
     "shell.execute_reply": "2025-09-15T18:25:58.211646Z",
     "shell.execute_reply.started": "2025-09-15T18:24:19.002960Z"
    },
    "trusted": true
   },
   "outputs": [
    {
     "data": {
      "text/plain": [
       "96.8522149169151"
      ]
     },
     "execution_count": 20,
     "metadata": {},
     "output_type": "execute_result"
    }
   ],
   "source": [
    "pipe.fit(x_train,y_train)\n",
    "y_pred = pipe.predict(x_test)\n",
    "r2_score(y_test,y_pred)*100"
   ]
  },
  {
   "cell_type": "code",
   "execution_count": 21,
   "metadata": {},
   "outputs": [
    {
     "data": {
      "text/plain": [
       "['crop_pred.pkl']"
      ]
     },
     "execution_count": 21,
     "metadata": {},
     "output_type": "execute_result"
    }
   ],
   "source": [
    "import joblib \n",
    "joblib.dump(pipe,\"crop_pred.pkl\")"
   ]
  }
 ],
 "metadata": {
  "kaggle": {
   "accelerator": "nvidiaTeslaT4",
   "dataSources": [
    {
     "datasetId": 412860,
     "isSourceIdPinned": false,
     "sourceId": 790184,
     "sourceType": "datasetVersion"
    }
   ],
   "dockerImageVersionId": 31090,
   "isGpuEnabled": true,
   "isInternetEnabled": true,
   "language": "python",
   "sourceType": "notebook"
  },
  "kernelspec": {
   "display_name": ".venv",
   "language": "python",
   "name": "python3"
  },
  "language_info": {
   "codemirror_mode": {
    "name": "ipython",
    "version": 3
   },
   "file_extension": ".py",
   "mimetype": "text/x-python",
   "name": "python",
   "nbconvert_exporter": "python",
   "pygments_lexer": "ipython3",
   "version": "3.12.4"
  }
 },
 "nbformat": 4,
 "nbformat_minor": 4
}
